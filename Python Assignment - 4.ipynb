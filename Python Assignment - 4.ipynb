{
 "cells": [
  {
   "cell_type": "code",
   "execution_count": 1,
   "metadata": {},
   "outputs": [
    {
     "name": "stdout",
     "output_type": "stream",
     "text": [
      "Muhammad\n",
      "Fareed\n",
      "22\n",
      "Karachi\n",
      "\n",
      "Updated dictionary after adding a key :  {'first_name': 'Muhammad', 'last_name': 'Fareed', 'age': 22, 'city': 'Karachi', 'qualification': 'Intermediate'}\n",
      "\n",
      "Updated dictionary after removing a key :  {'first_name': 'Muhammad', 'last_name': 'Fareed', 'age': 22, 'city': 'Karachi'}\n"
     ]
    }
   ],
   "source": [
    "'''\n",
    "Question 1\n",
    "\n",
    "Use a dictionary to store information about a person you know. Store their first name, last name, age,\n",
    "and the city in which they live. You should have keys such as first_name, last_name, age, and city. Print\n",
    "each piece of information stored in your dictionary. Add a new key value pair about qualification then\n",
    "update the qualification value to high academic level then delete it.\n",
    "\n",
    "'''\n",
    "\n",
    "Person = {\n",
    "    'first_name' : 'Muhammad',\n",
    "    'last_name' : 'Fareed',\n",
    "    'age' : 22,\n",
    "    'city' : 'Karachi',\n",
    "    }\n",
    "\n",
    "print(Person['first_name'])\n",
    "print(Person['last_name'])\n",
    "print(Person['age'])\n",
    "print(Person['city'])\n",
    "\n",
    "Person.update({'qualification' : 'Intermediate'})\n",
    "print(\"\\nUpdated dictionary after adding a key : \",Person)\n",
    "\n",
    "del Person['qualification']\n",
    "print(\"\\nUpdated dictionary after removing a key : \", Person)"
   ]
  },
  {
   "cell_type": "code",
   "execution_count": 2,
   "metadata": {},
   "outputs": [
    {
     "name": "stdout",
     "output_type": "stream",
     "text": [
      "\n",
      "1 Karachi is in Pakistan.\n",
      "  It has a population of about 16.62 million.\n",
      "  The Narathar mountains are nearby.\n",
      "\n",
      "2 Paris is in France.\n",
      "  It has a population of about 2.141 million.\n",
      "  The Pyrenees mountains are nearby.\n",
      "\n",
      "3 Berlin is in Germany.\n",
      "  It has a population of about 3.748 million.\n",
      "  The Berg mountains are nearby.\n"
     ]
    }
   ],
   "source": [
    "'''\n",
    "Question 2\n",
    "\n",
    "Make a dictionary called cities. Use the names of three cities as keys in your dictionary. Create a\n",
    "dictionary of information about each city and include the country that the city is in, its approximate\n",
    "population, and one fact about that city. The keys for each city’s dictionary should be something like\n",
    "country, population, and fact. Print the name of each city and all of the information you have stored\n",
    "about it.\n",
    "\n",
    "'''\n",
    "\n",
    "cities = {\n",
    "    'Karachi' : {\n",
    "        'S.No' : 1,\n",
    "        'country' : 'Pakistan',\n",
    "        'population' : \"16.62 million\",\n",
    "        'nearby mountains' : 'Narathar',\n",
    "        },\n",
    "     'Paris' : {\n",
    "        'S.No' : 2,\n",
    "        'country' : 'France',\n",
    "        'population' : \"2.141 million\",\n",
    "        'nearby mountains' : 'Pyrenees',\n",
    "        },\n",
    "     'Berlin' : {\n",
    "        'S.No' : 3,\n",
    "        'country' : 'Germany',\n",
    "        'population' : \"3.748 million\",\n",
    "        'nearby mountains' : 'Berg',\n",
    "        }\n",
    "    }\n",
    "\n",
    "for city, city_info in cities.items():\n",
    "    sNo = str(city_info['S.No'])\n",
    "    country = city_info['country']\n",
    "    population = city_info['population']\n",
    "    mountains = city_info['nearby mountains']\n",
    "\n",
    "    print(\"\\n\" +sNo + \" \" + city + \" is in \" + country + \".\")\n",
    "    print(\"  It has a population of about \" + population + \".\")\n",
    "    print(\"  The \" + mountains + \" mountains are nearby.\")"
   ]
  },
  {
   "cell_type": "code",
   "execution_count": 3,
   "metadata": {},
   "outputs": [
    {
     "name": "stdout",
     "output_type": "stream",
     "text": [
      "\n",
      "How old are you?  12\n",
      "The cost of ticket for you is $10.\n",
      "Do you want to buy more tickets?  Tell us (yes/no) : yes\n",
      "\n",
      "How old are you?  2\n",
      "You get in free!\n",
      "Do you want to buy more tickets?  Tell us (yes/no) : yes\n",
      "\n",
      "How old are you?  17\n",
      "The cost of ticket for you is $15.\n",
      "Do you want to buy more tickets?  Tell us (yes/no) : yes\n",
      "\n",
      "How old are you?  7\n",
      "The cost of ticket for you is $10.\n",
      "Do you want to buy more tickets?  Tell us (yes/no) : no\n"
     ]
    }
   ],
   "source": [
    "'''\n",
    "Question 3\n",
    "\n",
    "A movie theater charges different ticket prices depending on a person’s age. If a person is under the age\n",
    "of 3, the ticket is free; if they are between 3 and 12, the ticket is $10; and if they are over age 12, the\n",
    "ticket is $15. Write a loop in which you ask users their age, and then tell them the cost of their movie\n",
    "ticket.\n",
    "\n",
    "'''\n",
    "\n",
    "option = \"yes\"\n",
    "while(option == \"yes\") :\n",
    "    age = int(input(\"\\nHow old are you?  \"))\n",
    "\n",
    "    if (age <= 3) :\n",
    "        print(\"You get in free!\")\n",
    "    elif (age > 3 and age <= 12) :\n",
    "        print(\"The cost of ticket for you is $10.\")\n",
    "    else:\n",
    "        print(\"The cost of ticket for you is $15.\")\n",
    "    \n",
    "    option = input(\"Do you want to buy more tickets?  Tell us (yes/no) : \")"
   ]
  },
  {
   "cell_type": "code",
   "execution_count": 4,
   "metadata": {},
   "outputs": [
    {
     "name": "stdout",
     "output_type": "stream",
     "text": [
      "Enter the name of your favourite book : Calculus by Howard Anton\n",
      "The name of your favourite book is  Calculus by Howard Anton\n"
     ]
    }
   ],
   "source": [
    "'''\n",
    "Question 4\n",
    "\n",
    "Write a function called favorite_book() that accepts one parameter, title. The function should print a\n",
    "message, such as One of my favorite books is Alice in Wonderland. Call the function, making sure to\n",
    "include a book title as an argument in the function call.\n",
    "\n",
    "'''\n",
    "\n",
    "def favorite_book(title):\n",
    "    print(\"The name of your favourite book is \", title)\n",
    "\n",
    "bookName = input(\"Enter the name of your favourite book : \")    \n",
    "favorite_book(bookName)"
   ]
  },
  {
   "cell_type": "code",
   "execution_count": 7,
   "metadata": {},
   "outputs": [
    {
     "name": "stdout",
     "output_type": "stream",
     "text": [
      "Hello!!! What is your name? : Fareed\n",
      "Well, Fareed, I am thinking of a number between 1 and 30.\n",
      "Take a guess about my number : 23\n",
      "Your guess is too high.\n",
      "Take a guess about my number : 12\n",
      "Your guess is too high.\n",
      "Take a guess about my number : 6\n",
      "Your guess is too high.\n",
      "Nope. The number I was thinking of was 4\n"
     ]
    }
   ],
   "source": [
    "'''\n",
    "Question 5\n",
    "\n",
    "Guess the number game\n",
    "Write a program which randomly generate a number between 1 to 30 and ask the user in input field to\n",
    "guess the correct number. Give three chances to user guess the number and also give hint to user if\n",
    "hidden number is greater or smaller than the number he given to input field.\n",
    "\n",
    "'''\n",
    "\n",
    "import random\n",
    "guessesTaken = 0\n",
    "name =input('Hello!!! What is your name? : ')\n",
    "\n",
    "number = random.randint(1,30)\n",
    "\n",
    "print('Well, ' + name + ', I am thinking of a number between 1 and 30.')\n",
    "\n",
    "\n",
    "\n",
    "while guessesTaken < 3:\n",
    "    guess = input(\"Take a guess about my number : \")\n",
    "    guess = int(guess)\n",
    "    guessesTaken += 1\n",
    "\n",
    "    if guess < number:\n",
    "        print('Your guess is too low.')\n",
    "    elif guess > number:\n",
    "        print('Your guess is too high.')\n",
    "    elif guess == number:\n",
    "        print('Good job!!! ' + name + '! You guessed my number which is ' + str(guessesTaken))\n",
    "        break\n",
    "\n",
    "if guess != number :\n",
    "    print('Nope. The number I was thinking of was ' + str(number))"
   ]
  },
  {
   "cell_type": "code",
   "execution_count": null,
   "metadata": {},
   "outputs": [],
   "source": []
  }
 ],
 "metadata": {
  "kernelspec": {
   "display_name": "Python 3",
   "language": "python",
   "name": "python3"
  },
  "language_info": {
   "codemirror_mode": {
    "name": "ipython",
    "version": 3
   },
   "file_extension": ".py",
   "mimetype": "text/x-python",
   "name": "python",
   "nbconvert_exporter": "python",
   "pygments_lexer": "ipython3",
   "version": "3.7.4"
  }
 },
 "nbformat": 4,
 "nbformat_minor": 2
}
