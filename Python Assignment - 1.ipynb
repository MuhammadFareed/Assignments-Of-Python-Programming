{
 "cells": [
  {
   "cell_type": "code",
   "execution_count": 1,
   "metadata": {},
   "outputs": [
    {
     "name": "stdout",
     "output_type": "stream",
     "text": [
      "Twinkle, twinkle, little star,\n",
      "\tHow I wonder what you are!\n",
      "\t\tUp above the world so high,\n",
      "\t\tLike a diamond in the sky.\n",
      "Twinkle, twinkle, little star,\n",
      "\tHow I wonder what you are\n"
     ]
    }
   ],
   "source": [
    "# Question # 1\n",
    "\n",
    "print(\"Twinkle, twinkle, little star,\\n\\tHow I wonder what you are!\\n\\t\\tUp above the world so high,\\n\\t\\tLike a diamond in the sky.\\nTwinkle, twinkle, little star,\\n\\tHow I wonder what you are\")"
   ]
  },
  {
   "cell_type": "code",
   "execution_count": 4,
   "metadata": {},
   "outputs": [
    {
     "name": "stdout",
     "output_type": "stream",
     "text": [
      "My Python Version is 3\n"
     ]
    }
   ],
   "source": [
    "# Question # 2\n",
    "# Write a Python program to get the Python version you are using\n",
    "\n",
    "python_version = str(3)\n",
    "print(\"My Python Version is \" + python_version)"
   ]
  },
  {
   "cell_type": "code",
   "execution_count": 5,
   "metadata": {},
   "outputs": [
    {
     "name": "stdout",
     "output_type": "stream",
     "text": [
      "Current Date is 3/Nov/2019 and the Current Time is 10:59 PM\n"
     ]
    }
   ],
   "source": [
    "# Question # 3\n",
    "# Write a Python program to display the current date and time.\n",
    "\n",
    "current_date = \"3/Nov/2019\"\n",
    "current_time = \"10:59 PM\"\n",
    "print(\"Current Date is \" + current_date + \" and the Current Time is \" + current_time)"
   ]
  },
  {
   "cell_type": "code",
   "execution_count": 9,
   "metadata": {},
   "outputs": [
    {
     "name": "stdout",
     "output_type": "stream",
     "text": [
      "Enter the value of radius : 2\n",
      "Area of Circle is : 12.568\n"
     ]
    }
   ],
   "source": [
    "# Question # 4\n",
    "# Write a Python program which accepts the radius of a circle from the user and compute the area.\n",
    "radius = int(input(\"Enter the value of radius : \"))\n",
    "area_of_circle = str(3.142 * radius * radius)\n",
    "print(\"Area of Circle is : \" + area_of_circle)"
   ]
  },
  {
   "cell_type": "code",
   "execution_count": 10,
   "metadata": {},
   "outputs": [
    {
     "name": "stdout",
     "output_type": "stream",
     "text": [
      "Enter your first name : Muhammad\n",
      "Enter your last name : Fareed\n",
      "Fareed Muhammad\n"
     ]
    }
   ],
   "source": [
    "# Question # 5\n",
    "# Write a Python program which accepts the user's first and last name and print them in reverse order with a space between them.\n",
    "\n",
    "f_name = input(\"Enter your first name : \")\n",
    "l_name = input(\"Enter your last name : \")\n",
    "print(l_name + \" \" + f_name)"
   ]
  },
  {
   "cell_type": "code",
   "execution_count": 13,
   "metadata": {},
   "outputs": [
    {
     "name": "stdout",
     "output_type": "stream",
     "text": [
      "Enter your first number : 4\n",
      "Enter your second number : 5\n",
      "Addition of both numbers is : 9\n"
     ]
    }
   ],
   "source": [
    "# Question # 6\n",
    "# Write a python program which takes two inputs from user and print them addition.\n",
    "\n",
    "num1 = int(input(\"Enter your first number : \"))\n",
    "num2 = int(input(\"Enter your second number : \"))\n",
    "addition = str(num1 + num2)\n",
    "print(\"Addition of both numbers is : \" + addition)"
   ]
  },
  {
   "cell_type": "code",
   "execution_count": null,
   "metadata": {},
   "outputs": [],
   "source": []
  }
 ],
 "metadata": {
  "kernelspec": {
   "display_name": "Python 3",
   "language": "python",
   "name": "python3"
  },
  "language_info": {
   "codemirror_mode": {
    "name": "ipython",
    "version": 3
   },
   "file_extension": ".py",
   "mimetype": "text/x-python",
   "name": "python",
   "nbconvert_exporter": "python",
   "pygments_lexer": "ipython3",
   "version": "3.7.4"
  }
 },
 "nbformat": 4,
 "nbformat_minor": 2
}
