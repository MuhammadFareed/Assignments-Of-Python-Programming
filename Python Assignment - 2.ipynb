{
 "cells": [
  {
   "cell_type": "code",
   "execution_count": 1,
   "metadata": {},
   "outputs": [
    {
     "name": "stdout",
     "output_type": "stream",
     "text": [
      "Enter your marks of English : 80\n",
      "Enter your marks of Mathematics : 85\n",
      "Enter your marks of Physics : 76\n",
      "Enter your marks of Urdu : 78\n",
      "Enter your marks of Islamiat : 90\n",
      "\n",
      "Your total Marks is 409 out of 500\n",
      "Your Percentage is 81.8%\n",
      "Your Grade is A-1\n"
     ]
    }
   ],
   "source": [
    "# Question 1\n",
    "# Write a program which takes 5 inputs from user for different subject’s marks, total it and generate mark sheet using grades ?\n",
    "\n",
    "english = int(input(\"Enter your marks of English : \"))\n",
    "maths = int(input(\"Enter your marks of Mathematics : \"))\n",
    "physics = int(input(\"Enter your marks of Physics : \"))\n",
    "urdu = int(input(\"Enter your marks of Urdu : \"))\n",
    "islamiat = int(input(\"Enter your marks of Islamiat : \"))\n",
    "marksObtained = english+maths+physics+urdu+islamiat\n",
    "percentage = (marksObtained/500)*100\n",
    "print(f\"\\nYour total Marks is {marksObtained} out of 500\")\n",
    "print(f\"Your Percentage is {percentage}%\")\n",
    "if percentage >=80 :\n",
    "    print(\"Your Grade is A-1\")\n",
    "elif percentage >=70 and percentage <80 :\n",
    "    print(\"Your Grade is A\")\n",
    "elif percentage >=60 and percentage <70 :\n",
    "    print(\"Your Grade is B\")\n",
    "elif percentage >=50 and percentage <60 :\n",
    "    print(\"Your Grade is C\")\n",
    "elif percentage >=40 and percentage <50 :\n",
    "    print(\"Your Grade is D\")\n",
    "else :\n",
    "    print(\"You are failed\")"
   ]
  },
  {
   "cell_type": "code",
   "execution_count": 2,
   "metadata": {},
   "outputs": [
    {
     "name": "stdout",
     "output_type": "stream",
     "text": [
      "Enter a number : 57\n",
      "Your number is Odd\n"
     ]
    }
   ],
   "source": [
    "# Question 2\n",
    "# Write a program which take input from user and identify that the given number is even or odd?\n",
    "\n",
    "num = int(input(\"Enter a number : \"))\n",
    "if num%2 == 0 :\n",
    "    print(\"Your number is Even\")\n",
    "else :\n",
    "    print(\"Your number is Odd\")"
   ]
  },
  {
   "cell_type": "code",
   "execution_count": 3,
   "metadata": {},
   "outputs": [
    {
     "name": "stdout",
     "output_type": "stream",
     "text": [
      "Length of the list is 8\n"
     ]
    }
   ],
   "source": [
    "# Question 3\n",
    "# Write a program which print the length of the list?\n",
    "\n",
    "firstlist = [1,2,3,\"abc\",\"Fareed\",4,5,6]\n",
    "print(f\"Length of the list is {len(firstlist)}\")"
   ]
  },
  {
   "cell_type": "code",
   "execution_count": 4,
   "metadata": {},
   "outputs": [
    {
     "name": "stdout",
     "output_type": "stream",
     "text": [
      "Sum of all elements in the list is : 15\n"
     ]
    }
   ],
   "source": [
    "# Question 4\n",
    "# Write a Python program to sum all the numeric items in a list?\n",
    "\n",
    "secondList = [1,2,3,4,5]\n",
    "sum = secondList[0] + secondList[1] + secondList[2] + secondList[3] + secondList[4]\n",
    "print(f\"Sum of all elements in the list is : {sum}\")"
   ]
  },
  {
   "cell_type": "code",
   "execution_count": 5,
   "metadata": {},
   "outputs": [
    {
     "name": "stdout",
     "output_type": "stream",
     "text": [
      "Largest number in the list is : 67\n"
     ]
    }
   ],
   "source": [
    "# Question 5\n",
    "# Write a Python program to get the largest number from a numeric list.\n",
    "\n",
    "thirdList = [17,2,67,9,45,9,0,34]\n",
    "thirdList.sort()\n",
    "length = len(thirdList)\n",
    "print(f\"Largest number in the list is : {thirdList[length-1]}\")"
   ]
  },
  {
   "cell_type": "code",
   "execution_count": 6,
   "metadata": {},
   "outputs": [
    {
     "name": "stdout",
     "output_type": "stream",
     "text": [
      "New list which contains the numbers less than 5 are : [1, 1, 2, 3]\n"
     ]
    }
   ],
   "source": [
    "# Question 6\n",
    "'''\n",
    "Take a list, say for example this one: \n",
    "# a = [1, 1, 2, 3, 5, 8, 13, 21, 34, 55, 89]\n",
    "#and write a program that prints out all the elements of the list that are less than 5.\n",
    "'''\n",
    "\n",
    "a = [1, 1, 2, 3, 5, 8, 13, 21, 34, 55, 89]\n",
    "newList = []\n",
    "for var in a :\n",
    "    if var < 5 :\n",
    "        newList.append(var)\n",
    "print(f\"New list which contains the numbers less than 5 are : {newList}\")"
   ]
  },
  {
   "cell_type": "code",
   "execution_count": null,
   "metadata": {},
   "outputs": [],
   "source": []
  }
 ],
 "metadata": {
  "kernelspec": {
   "display_name": "Python 3",
   "language": "python",
   "name": "python3"
  },
  "language_info": {
   "codemirror_mode": {
    "name": "ipython",
    "version": 3
   },
   "file_extension": ".py",
   "mimetype": "text/x-python",
   "name": "python",
   "nbconvert_exporter": "python",
   "pygments_lexer": "ipython3",
   "version": "3.7.4"
  }
 },
 "nbformat": 4,
 "nbformat_minor": 2
}
