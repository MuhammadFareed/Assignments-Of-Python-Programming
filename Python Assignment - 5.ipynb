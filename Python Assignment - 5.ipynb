{
 "cells": [
  {
   "cell_type": "code",
   "execution_count": null,
   "metadata": {},
   "outputs": [],
   "source": [
    "\"\"\"\"\n",
    "Question # 1\n",
    "\n",
    "Write a Python function to calculate the factorial of a number (a non-negative integer). \n",
    "The function accepts the number as an argument\n",
    "\n",
    "\"\"\"\"\n",
    "\n",
    "\n",
    "def factorial(number):\n",
    "    if number == 0:\n",
    "        return 1\n",
    "    else:\n",
    "        return number * factorial(number - 1)\n",
    "number = int(input(\"Input a number to compute the factiorial : \"))\n",
    "print(factorial(number))"
   ]
  },
  {
   "cell_type": "code",
   "execution_count": 7,
   "metadata": {},
   "outputs": [
    {
     "name": "stdout",
     "output_type": "stream",
     "text": [
      "Enter a string : MuhammaD FareEd AlaM\n",
      "Total Upper case characters are :  6\n",
      "Total Lower case characters are :  12\n"
     ]
    }
   ],
   "source": [
    "\"\"\"\"\n",
    "Question # 2\n",
    "\n",
    "Write a Python function that accepts a string and calculate the number of uppercase letters and lower case letters.\n",
    "\n",
    "\"\"\"\"\n",
    "\n",
    "def checkCase(string) :\n",
    "    dic={\"upperCase\":0, \"lowerCase\":0}\n",
    "    for check in string :\n",
    "        if check.isupper() :\n",
    "           dic[\"upperCase\"] += 1\n",
    "        elif check.islower() :\n",
    "           dic[\"lowerCase\"] += 1\n",
    "        else:\n",
    "           pass\n",
    "    print (\"Total Upper case characters are : \", dic[\"upperCase\"])\n",
    "    print (\"Total Lower case characters are : \", dic[\"lowerCase\"])\n",
    "\n",
    "string = input(\"Enter a string : \")\n",
    "checkCase(string)"
   ]
  },
  {
   "cell_type": "code",
   "execution_count": 11,
   "metadata": {},
   "outputs": [
    {
     "name": "stdout",
     "output_type": "stream",
     "text": [
      "Even numbers in the list are : \n",
      "40, 56, 82, 98, "
     ]
    }
   ],
   "source": [
    "\"\"\"\"\n",
    "Question # 3\n",
    "\n",
    "Write a Python function to print the even numbers from a given list.\n",
    "\n",
    "\"\"\"\"\n",
    "\n",
    "generatedList = [43,56,98,82,67,40,81] \n",
    "generatedList.sort()\n",
    "print(\"Even numbers in the list are : \")\n",
    "for num in generatedList: \n",
    "  if num % 2 == 0 : \n",
    "       print(num, end = \", \")"
   ]
  },
  {
   "cell_type": "code",
   "execution_count": 20,
   "metadata": {},
   "outputs": [
    {
     "name": "stdout",
     "output_type": "stream",
     "text": [
      "Enter a string to check Palindrome : maham\n",
      "Your string is a Palindrome.\n"
     ]
    }
   ],
   "source": [
    "\"\"\"\"\n",
    "Question # 4\n",
    "\n",
    "Write a Python function that checks whether a passed string is palindrome or not.\n",
    "Note: A palindrome is a word, phrase, or sequence that reads the same\n",
    "backward as forward, e.g., madam\n",
    "\n",
    "\"\"\"\"\n",
    "\n",
    "def checkingPalindrome(string):\n",
    "    leftPosition = 0\n",
    "    rightPosition = len(string) - 1\n",
    "    \n",
    "    while rightPosition >= leftPosition :\n",
    "        if not string[leftPosition] == string[rightPosition]:\n",
    "            return False\n",
    "        leftPosition += 1\n",
    "        rightPosition -= 1\n",
    "    return True\n",
    "\n",
    "ip = input(\"Enter a string to check Palindrome : \")\n",
    "result = checkingPalindrome(ip)\n",
    "\n",
    "if result == True :\n",
    "    print(\"Your string is a Palindrome.\")\n",
    "else :\n",
    "    print(\"Your string is not a Palindrome.\")"
   ]
  },
  {
   "cell_type": "code",
   "execution_count": 32,
   "metadata": {},
   "outputs": [
    {
     "name": "stdout",
     "output_type": "stream",
     "text": [
      "Enter a number : 13\n",
      "Your number is a prime number.\n"
     ]
    }
   ],
   "source": [
    "\"\"\"\"\n",
    "Question # 5\n",
    "\n",
    "Write a Python function that takes a number as a parameter and check the\n",
    "number is prime or not\n",
    "\n",
    "\"\"\"\"\n",
    "\n",
    "def testNumber(number):\n",
    "    if (number == 0 or number == 1) :\n",
    "        return False\n",
    "    elif (number == 2) :\n",
    "        return True\n",
    "    else :\n",
    "        for check in range(2,number) :\n",
    "            if(number%check == 0) :\n",
    "                return False\n",
    "        return True             \n",
    "\n",
    "number = int(input(\"Enter a number : \"))\n",
    "\n",
    "result = testNumber(number)\n",
    "if result == True :\n",
    "    print(\"Your number is a prime number.\")\n",
    "else :\n",
    "    print(\"Your number is not a prime number.\")"
   ]
  },
  {
   "cell_type": "code",
   "execution_count": null,
   "metadata": {},
   "outputs": [],
   "source": []
  },
  {
   "cell_type": "code",
   "execution_count": null,
   "metadata": {},
   "outputs": [],
   "source": []
  }
 ],
 "metadata": {
  "kernelspec": {
   "display_name": "Python 3",
   "language": "python",
   "name": "python3"
  },
  "language_info": {
   "codemirror_mode": {
    "name": "ipython",
    "version": 3
   },
   "file_extension": ".py",
   "mimetype": "text/x-python",
   "name": "python",
   "nbconvert_exporter": "python",
   "pygments_lexer": "ipython3",
   "version": "3.7.4"
  }
 },
 "nbformat": 4,
 "nbformat_minor": 2
}
