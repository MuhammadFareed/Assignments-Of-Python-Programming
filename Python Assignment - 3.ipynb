{
 "cells": [
  {
   "cell_type": "code",
   "execution_count": 1,
   "metadata": {},
   "outputs": [
    {
     "name": "stdout",
     "output_type": "stream",
     "text": [
      "Enter first number : 4\n",
      "Enter second number : 5\n",
      "Enter an operator from +,-,*,/ : +\n",
      "4 + 5 = 9\n"
     ]
    }
   ],
   "source": [
    "# Question 1\n",
    "# Make a calculator using Python with addition , subtraction , multiplication , division and power.\n",
    "\n",
    "num1 = int(input(\"Enter first number : \"))\n",
    "num2 = int(input(\"Enter second number : \"))\n",
    "operator = input(\"Enter an operator from +,-,*,/ : \")\n",
    "if operator == '+' :\n",
    "    print(f\"{num1} + {num2} = {num1 + num2}\")\n",
    "elif operator == '-' : \n",
    "    print(f\"{num1} - {num2} = {num1 - num2}\")\n",
    "elif operator == '*' : \n",
    "    print(f\"{num1} * {num2} = {num1 * num2}\")\n",
    "elif operator == '/' :\n",
    "    print(f\"{num1} / {num2} = {num1 / num2}\")\n",
    "else :\n",
    "    print(\"You entered an invalid operator\")"
   ]
  },
  {
   "cell_type": "code",
   "execution_count": 2,
   "metadata": {},
   "outputs": [
    {
     "name": "stdout",
     "output_type": "stream",
     "text": [
      "Which number do you want to find : 6\n",
      "6 is present in the list\n"
     ]
    }
   ],
   "source": [
    "# Question 2\n",
    "# Write a program to check if there is any numeric value in list using for loop\n",
    "\n",
    "num = int(input(\"Which number do you want to find : \"))\n",
    "arr = [5,3,8,7,1,10,6,9,2,4]\n",
    "for i in arr :\n",
    "    if (i == num)  :                      # Finding 4 in the list\n",
    "        print(f\"{num} is present in the list\")\n",
    "        break"
   ]
  },
  {
   "cell_type": "code",
   "execution_count": 3,
   "metadata": {},
   "outputs": [
    {
     "name": "stdout",
     "output_type": "stream",
     "text": [
      "{'firstName': 'Muhammad', 'lastName': 'Fareed', 'maiil': 'fareedalam@gmail.com'} \n",
      "\n",
      "Updated Dictionary is\n",
      "{'firstName': 'Muhammad', 'lastName': 'Fareed', 'maiil': 'fareedalam@gmail.com', 'gender': 'Male'}\n"
     ]
    }
   ],
   "source": [
    "# Question 3\n",
    "# Write a Python script to add a key to a dictionary\n",
    "\n",
    "dict = {\n",
    "        \"firstName\" : \"Muhammad\",\n",
    "        \"lastName\" : \"Fareed\",\n",
    "        \"maiil\" : \"fareedalam@gmail.com\",\n",
    "}\n",
    "print(dict,\"\\n\")\n",
    "dict.update({\"gender\" : \"Male\"})\n",
    "print(\"Updated Dictionary is\")\n",
    "print(dict)"
   ]
  },
  {
   "cell_type": "code",
   "execution_count": 4,
   "metadata": {},
   "outputs": [
    {
     "name": "stdout",
     "output_type": "stream",
     "text": [
      "25\n"
     ]
    }
   ],
   "source": [
    "# Qustion 4\n",
    "# Write a Python program to sum all the numeric items in a dictionary\n",
    "\n",
    "dict2 = { \n",
    "            \"x\" : 5, \n",
    "            \"y\" : 8, \n",
    "            \"z\" : 12,\n",
    "} \n",
    "sum = 0\n",
    "for each_value_in_dict2 in dict2.values() :\n",
    "    sum += each_value_in_dict2\n",
    "    \n",
    "print(sum)"
   ]
  },
  {
   "cell_type": "code",
   "execution_count": 5,
   "metadata": {},
   "outputs": [
    {
     "name": "stdout",
     "output_type": "stream",
     "text": [
      "[2, 4, 6]\n"
     ]
    }
   ],
   "source": [
    "# Question 5\n",
    "# Write a program to identify duplicate values from list\n",
    "\n",
    "from collections import Counter\n",
    "\n",
    "lst = [4,3,2,4,1,5,6,4,7,6,8,2]\n",
    "n =  Counter(lst)\n",
    "repeatedNumbers = [i for i, j in n.items() if j > 1]\n",
    "repeatedNumbers.sort()\n",
    "\n",
    "print(repeatedNumbers)"
   ]
  },
  {
   "cell_type": "code",
   "execution_count": 7,
   "metadata": {},
   "outputs": [
    {
     "name": "stdout",
     "output_type": "stream",
     "text": [
      "Ente a key to check : c\n",
      "Present,  value = 300\n"
     ]
    }
   ],
   "source": [
    "# Question 6\n",
    "# Write a Python script to check if a given key already exists in a dictionary\n",
    "\n",
    "dict = {'a': 100, 'b':200, 'c':300} \n",
    "def checkKey(dict, key): \n",
    "      \n",
    "    if key in dict: \n",
    "        print(\"Present, \", end =\" \") \n",
    "        print(\"value =\", dict[key]) \n",
    "    else: \n",
    "        print(\"Not present\") \n",
    "  \n",
    "key = input(\"Ente a key to check : \")\n",
    "checkKey(dict, key) "
   ]
  },
  {
   "cell_type": "code",
   "execution_count": null,
   "metadata": {},
   "outputs": [],
   "source": []
  }
 ],
 "metadata": {
  "kernelspec": {
   "display_name": "Python 3",
   "language": "python",
   "name": "python3"
  },
  "language_info": {
   "codemirror_mode": {
    "name": "ipython",
    "version": 3
   },
   "file_extension": ".py",
   "mimetype": "text/x-python",
   "name": "python",
   "nbconvert_exporter": "python",
   "pygments_lexer": "ipython3",
   "version": "3.7.4"
  }
 },
 "nbformat": 4,
 "nbformat_minor": 2
}
